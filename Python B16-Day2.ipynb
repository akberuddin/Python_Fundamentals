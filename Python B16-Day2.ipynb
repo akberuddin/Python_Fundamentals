{
 "cells": [
  {
   "cell_type": "code",
   "execution_count": 2,
   "metadata": {},
   "outputs": [
    {
     "name": "stdout",
     "output_type": "stream",
     "text": [
      "['akber', 'yahya', 'abubakr', 'zaid']\n"
     ]
    }
   ],
   "source": [
    "students = ['akber','yahya','abubakr','zaid']\n",
    "print(students)"
   ]
  },
  {
   "cell_type": "code",
   "execution_count": 3,
   "metadata": {},
   "outputs": [
    {
     "data": {
      "text/plain": [
       "list"
      ]
     },
     "execution_count": 3,
     "metadata": {},
     "output_type": "execute_result"
    }
   ],
   "source": [
    "type(students)"
   ]
  },
  {
   "cell_type": "code",
   "execution_count": 4,
   "metadata": {},
   "outputs": [
    {
     "name": "stdout",
     "output_type": "stream",
     "text": [
      "yahya\n"
     ]
    }
   ],
   "source": [
    "print(students[1])"
   ]
  },
  {
   "cell_type": "code",
   "execution_count": 7,
   "metadata": {},
   "outputs": [
    {
     "name": "stdout",
     "output_type": "stream",
     "text": [
      "abubakr\n"
     ]
    }
   ],
   "source": [
    "print(students[2])"
   ]
  },
  {
   "cell_type": "code",
   "execution_count": 8,
   "metadata": {},
   "outputs": [
    {
     "name": "stdout",
     "output_type": "stream",
     "text": [
      "['akber', 'yahya', 'abubakr', 'zaid', 'habeeb', 'khalid']\n"
     ]
    }
   ],
   "source": [
    "students = ['akber','yahya','abubakr','zaid', 'habeeb','khalid']\n",
    "print(students)"
   ]
  },
  {
   "cell_type": "code",
   "execution_count": 15,
   "metadata": {},
   "outputs": [
    {
     "name": "stdout",
     "output_type": "stream",
     "text": [
      "['akber', 'khalid', 'abubakr', 'zaid', 'habeeb', 'khalid']\n"
     ]
    }
   ],
   "source": [
    "students[1] ='khalid'\n",
    "print(students)"
   ]
  },
  {
   "cell_type": "code",
   "execution_count": 17,
   "metadata": {},
   "outputs": [
    {
     "name": "stdout",
     "output_type": "stream",
     "text": [
      "['akber', 'khalid', 'abubakr', 'zaid', 'habeeb', 'khalid', 'zain']\n"
     ]
    }
   ],
   "source": [
    "students.append('zain')\n",
    "print(students)"
   ]
  },
  {
   "cell_type": "code",
   "execution_count": 20,
   "metadata": {},
   "outputs": [
    {
     "name": "stdout",
     "output_type": "stream",
     "text": [
      "['akber', 'khalid', 'yahya', 'abubakr', 'zaid', 'habeeb', 'khalid', 'zain', 'yahya']\n"
     ]
    }
   ],
   "source": [
    "students.insert(2,'yahya')\n",
    "print(students)"
   ]
  },
  {
   "cell_type": "code",
   "execution_count": 26,
   "metadata": {},
   "outputs": [
    {
     "name": "stdout",
     "output_type": "stream",
     "text": [
      "['akber', 'khalid', 'yahya', 'abubakr', 'zaid', 'habeeb', 'khalid']\n"
     ]
    }
   ],
   "source": [
    "del students[7]\n",
    "print(students)"
   ]
  },
  {
   "cell_type": "code",
   "execution_count": 27,
   "metadata": {},
   "outputs": [
    {
     "name": "stdout",
     "output_type": "stream",
     "text": [
      "['akber', 'khalid', 'yahya', 'abubakr', 'zaid', 'habeeb', 'khalid']\n"
     ]
    }
   ],
   "source": [
    "students = ['akber', 'khalid', 'yahya', 'abubakr', 'zaid', 'habeeb', 'khalid']\n",
    "print(students)"
   ]
  },
  {
   "cell_type": "code",
   "execution_count": 31,
   "metadata": {},
   "outputs": [
    {
     "name": "stdout",
     "output_type": "stream",
     "text": [
      "khalid\n"
     ]
    }
   ],
   "source": [
    "k = students.pop()\n",
    "print(k)"
   ]
  },
  {
   "cell_type": "code",
   "execution_count": 32,
   "metadata": {},
   "outputs": [
    {
     "name": "stdout",
     "output_type": "stream",
     "text": [
      "habeeb\n"
     ]
    }
   ],
   "source": [
    "a = students.pop()\n",
    "print(a)"
   ]
  },
  {
   "cell_type": "code",
   "execution_count": 33,
   "metadata": {},
   "outputs": [
    {
     "name": "stdout",
     "output_type": "stream",
     "text": [
      "zaid\n"
     ]
    }
   ],
   "source": [
    "a = students.pop()\n",
    "print(a)"
   ]
  },
  {
   "cell_type": "code",
   "execution_count": 34,
   "metadata": {},
   "outputs": [
    {
     "name": "stdout",
     "output_type": "stream",
     "text": [
      "['akber', 'khalid', 'yahya', 'abubakr']\n"
     ]
    }
   ],
   "source": [
    "print(students)"
   ]
  },
  {
   "cell_type": "code",
   "execution_count": 36,
   "metadata": {},
   "outputs": [
    {
     "name": "stdout",
     "output_type": "stream",
     "text": [
      "['khalid', 'yahya', 'abubakr']\n"
     ]
    }
   ],
   "source": [
    "students .remove('akber')\n",
    "print(students)"
   ]
  },
  {
   "cell_type": "code",
   "execution_count": 37,
   "metadata": {},
   "outputs": [
    {
     "name": "stdout",
     "output_type": "stream",
     "text": [
      "['akber', 'khalid', 'yahya', 'abubakr', 'zaid', 'habeeb', 'khalid']\n"
     ]
    }
   ],
   "source": [
    "students = ['akber', 'khalid', 'yahya', 'abubakr', 'zaid', 'habeeb', 'khalid']\n",
    "print(students)"
   ]
  },
  {
   "cell_type": "code",
   "execution_count": 40,
   "metadata": {},
   "outputs": [
    {
     "name": "stdout",
     "output_type": "stream",
     "text": [
      "['abubakr', 'akber', 'habeeb', 'khalid', 'khalid', 'yahya', 'zaid']\n"
     ]
    }
   ],
   "source": [
    "students .sort()\n",
    "print (students)"
   ]
  },
  {
   "cell_type": "code",
   "execution_count": 42,
   "metadata": {},
   "outputs": [
    {
     "name": "stdout",
     "output_type": "stream",
     "text": [
      "['zaid', 'yahya', 'khalid', 'khalid', 'habeeb', 'akber', 'abubakr']\n"
     ]
    }
   ],
   "source": [
    "students .reverse()\n",
    "print (students)"
   ]
  },
  {
   "cell_type": "code",
   "execution_count": 43,
   "metadata": {},
   "outputs": [
    {
     "data": {
      "text/plain": [
       "7"
      ]
     },
     "execution_count": 43,
     "metadata": {},
     "output_type": "execute_result"
    }
   ],
   "source": [
    "len (students)"
   ]
  },
  {
   "cell_type": "code",
   "execution_count": null,
   "metadata": {},
   "outputs": [],
   "source": []
  }
 ],
 "metadata": {
  "kernelspec": {
   "display_name": "Python 3",
   "language": "python",
   "name": "python3"
  },
  "language_info": {
   "codemirror_mode": {
    "name": "ipython",
    "version": 3
   },
   "file_extension": ".py",
   "mimetype": "text/x-python",
   "name": "python",
   "nbconvert_exporter": "python",
   "pygments_lexer": "ipython3",
   "version": "3.7.6"
  }
 },
 "nbformat": 4,
 "nbformat_minor": 4
}
